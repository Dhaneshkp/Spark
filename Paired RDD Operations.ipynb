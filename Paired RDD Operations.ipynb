{
  "cells": [
    {
      "cell_type": "markdown",
      "metadata": {
        "id": "view-in-github",
        "colab_type": "text"
      },
      "source": [
        "<a href=\"https://colab.research.google.com/github/Dhaneshkp/Spark/blob/main/Paired%20RDD%20Operations.ipynb\" target=\"_parent\"><img src=\"https://colab.research.google.com/assets/colab-badge.svg\" alt=\"Open In Colab\"/></a>"
      ]
    },
    {
      "cell_type": "markdown",
      "metadata": {
        "id": "FQb6c8DUWc3w"
      },
      "source": [
        "---\n",
        "\n",
        "<center><h1> Transformations & Action on Pair RDDs </h1></center>\n",
        "\n",
        "---\n",
        "\n",
        "\n",
        "Different types transformations and Actions on Paired RDDs.\n",
        "    \n",
        "### `Transformations`\n",
        "\n",
        "\n",
        "\n",
        "* 1. **Keys**\n",
        "* 2. **Values**\n",
        "* 3. **Group By Key**\n",
        "* 4. **Reduce By Key**\n",
        "* 3. **Join**\n",
        "\n",
        "\n",
        "### `Actions`\n",
        "\n",
        "\n",
        "* 1. **Count By Key**\n",
        "* 2. **Look Up**   \n",
        "    \n",
        "\n",
        "---\n",
        "\n",
        "#### `IMPORTING THE REQUIRED LIBRARIES`\n",
        "\n",
        "---"
      ]
    },
    {
      "cell_type": "code",
      "execution_count": 1,
      "metadata": {
        "id": "zoORucstWc3z"
      },
      "outputs": [],
      "source": [
        "# importing the spark context\n",
        "from pyspark.context import SparkContext"
      ]
    },
    {
      "cell_type": "code",
      "execution_count": 2,
      "metadata": {
        "id": "J0XfOds8Wc30"
      },
      "outputs": [],
      "source": [
        "# spark context object\n",
        "sc = SparkContext(appName=\"pair_rdd_operations\")"
      ]
    },
    {
      "cell_type": "markdown",
      "metadata": {
        "id": "kY6NsaSVWc31"
      },
      "source": [
        "---\n",
        "\n",
        "\n",
        "We have a students data in the file **students_data.txt** which has the 9 different columns. First one is **Roll No**, **Section**, **Name of Student**, **City**, and the last five columns are marks in 5 different subjects. The data of each student is in different row separated by space.\n",
        "\n",
        "---\n",
        "\n",
        "![](https://github.com/Dhaneshkp/Spark/blob/main/images/data_1.png?raw=1)\n",
        "\n",
        "\n",
        "---\n",
        "\n",
        "\n",
        "#### `Let's start with creating the rdd of the file - students_data.txt`\n",
        "\n",
        "---"
      ]
    },
    {
      "cell_type": "code",
      "execution_count": 5,
      "metadata": {
        "id": "8hO8yTFIWc31"
      },
      "outputs": [],
      "source": [
        "## rdd of the file\n",
        "students_marks = sc.textFile(\"students_data.txt\")"
      ]
    },
    {
      "cell_type": "code",
      "execution_count": 6,
      "metadata": {
        "scrolled": true,
        "id": "QXH5locWWc32",
        "outputId": "a864b605-a73e-44bc-808b-e8dc2f52137d",
        "colab": {
          "base_uri": "https://localhost:8080/"
        }
      },
      "outputs": [
        {
          "output_type": "execute_result",
          "data": {
            "text/plain": [
              "['101 A Rohit Gurgaon 65 77 43 66 87',\n",
              " '102 B Akansha Delhi 55 46 24 66 77',\n",
              " '103 A Himanshu Faridabad 75 38 84 38 58',\n",
              " '104 A Ekta Delhi 85 84 39 58 85',\n",
              " '105 B Deepanshu Gurgaon 34 55 56 23 66',\n",
              " '106 B Ayush Delhi 66 62 98 74 87',\n",
              " '107 B Aditi Delhi 76 83 75 38 58',\n",
              " '108 A Sahil Faridabad 55 32 43 56 66',\n",
              " '109 A Krati Delhi 34 53 25 67 75']"
            ]
          },
          "metadata": {},
          "execution_count": 6
        }
      ],
      "source": [
        "## view the data\n",
        "students_marks.collect()"
      ]
    },
    {
      "cell_type": "markdown",
      "metadata": {
        "id": "Fd6uT4F0Wc33"
      },
      "source": [
        "---\n",
        "\n",
        "Next, We will split each line into a list of words using Map. Let's see how to do this with the help of map transformation in the below cell.\n",
        "\n",
        "---"
      ]
    },
    {
      "cell_type": "code",
      "execution_count": 7,
      "metadata": {
        "id": "F9QEM5QNWc33"
      },
      "outputs": [],
      "source": [
        "# split the rdd\n",
        "students_marks = students_marks.map(lambda x: x.split(' '))"
      ]
    },
    {
      "cell_type": "code",
      "execution_count": 8,
      "metadata": {
        "scrolled": true,
        "id": "kyozq8pLWc34",
        "outputId": "ad12e9f5-1dd8-4640-a893-33f6fd9b8c87",
        "colab": {
          "base_uri": "https://localhost:8080/"
        }
      },
      "outputs": [
        {
          "output_type": "execute_result",
          "data": {
            "text/plain": [
              "[['101', 'A', 'Rohit', 'Gurgaon', '65', '77', '43', '66', '87'],\n",
              " ['102', 'B', 'Akansha', 'Delhi', '55', '46', '24', '66', '77'],\n",
              " ['103', 'A', 'Himanshu', 'Faridabad', '75', '38', '84', '38', '58'],\n",
              " ['104', 'A', 'Ekta', 'Delhi', '85', '84', '39', '58', '85'],\n",
              " ['105', 'B', 'Deepanshu', 'Gurgaon', '34', '55', '56', '23', '66'],\n",
              " ['106', 'B', 'Ayush', 'Delhi', '66', '62', '98', '74', '87'],\n",
              " ['107', 'B', 'Aditi', 'Delhi', '76', '83', '75', '38', '58'],\n",
              " ['108', 'A', 'Sahil', 'Faridabad', '55', '32', '43', '56', '66'],\n",
              " ['109', 'A', 'Krati', 'Delhi', '34', '53', '25', '67', '75']]"
            ]
          },
          "metadata": {},
          "execution_count": 8
        }
      ],
      "source": [
        "# collect the rdd\n",
        "students_marks.collect()"
      ]
    },
    {
      "cell_type": "markdown",
      "metadata": {
        "id": "yi4Q_ef1Wc34"
      },
      "source": [
        "---\n",
        "\n",
        "#### **`On the above dataset, we will try to find out the answers of the following questions using the pair RDDs`**\n",
        "\n",
        "---\n",
        "\n",
        " - How to find out the keys & values of a particular pair RDD?\n",
        " - Find out all the datapoints of the student with roll no 102 & 105?\n",
        " - Find out the number of students from each city?\n",
        " - How to join 2 different pair RDDs?\n",
        " - Find out the number of students in each section?\n",
        "\n",
        "\n",
        "\n",
        "\n",
        "---"
      ]
    },
    {
      "cell_type": "markdown",
      "metadata": {
        "id": "r9kp5MMrWc35"
      },
      "source": [
        "---\n",
        "\n",
        "#### `How to find out the keys & values of a particular Pair RDD?`\n"
      ]
    },
    {
      "cell_type": "markdown",
      "metadata": {
        "id": "Vgo8pfc9Wc35"
      },
      "source": [
        "---\n",
        "\n",
        "We will create the Pair RDD with key as the **roll no** and values as the **section**, **name** & **city**. Let's see how to do that in the below cell.\n",
        "\n",
        "---\n",
        "\n",
        "\n",
        "\n",
        "<center> <img src=\"https://github.com/Dhaneshkp/Spark/blob/main/images/key-value.png?raw=1\"/> </center>\n",
        "\n",
        "---"
      ]
    },
    {
      "cell_type": "code",
      "execution_count": 9,
      "metadata": {
        "id": "Hm-714hSWc36"
      },
      "outputs": [],
      "source": [
        "# create the pair rdd\n",
        "students_marks_paired_rdd = students_marks.map(lambda x: (x[0], (x[1],x[2], x[3])))"
      ]
    },
    {
      "cell_type": "code",
      "execution_count": 10,
      "metadata": {
        "scrolled": true,
        "id": "X7-2_PpqWc36",
        "outputId": "1b6072c1-783a-4be3-bf15-26abd2180b9f",
        "colab": {
          "base_uri": "https://localhost:8080/"
        }
      },
      "outputs": [
        {
          "output_type": "execute_result",
          "data": {
            "text/plain": [
              "[('101', ('A', 'Rohit', 'Gurgaon')),\n",
              " ('102', ('B', 'Akansha', 'Delhi')),\n",
              " ('103', ('A', 'Himanshu', 'Faridabad')),\n",
              " ('104', ('A', 'Ekta', 'Delhi')),\n",
              " ('105', ('B', 'Deepanshu', 'Gurgaon')),\n",
              " ('106', ('B', 'Ayush', 'Delhi')),\n",
              " ('107', ('B', 'Aditi', 'Delhi')),\n",
              " ('108', ('A', 'Sahil', 'Faridabad')),\n",
              " ('109', ('A', 'Krati', 'Delhi'))]"
            ]
          },
          "metadata": {},
          "execution_count": 10
        }
      ],
      "source": [
        "# collect the paired rdd.\n",
        "students_marks_paired_rdd.collect()"
      ]
    },
    {
      "cell_type": "markdown",
      "metadata": {
        "id": "6Qo-9reWWc36"
      },
      "source": [
        "---\n",
        "\n",
        "#### `Transformation - Keys`\n",
        "\n",
        "The **`Keys`** transformation will give you the keys of the paired RDD. Let's try it for the above paired RDD.\n",
        "\n",
        "---"
      ]
    },
    {
      "cell_type": "code",
      "execution_count": 11,
      "metadata": {
        "id": "0LkHRqyvWc37"
      },
      "outputs": [],
      "source": [
        "# keys transformation\n",
        "students_marks_keys = students_marks_paired_rdd.keys()"
      ]
    },
    {
      "cell_type": "code",
      "execution_count": 12,
      "metadata": {
        "id": "vAXHMyfSWc37",
        "outputId": "146aec18-e82b-4117-febf-ce0ec3abb952",
        "colab": {
          "base_uri": "https://localhost:8080/"
        }
      },
      "outputs": [
        {
          "output_type": "execute_result",
          "data": {
            "text/plain": [
              "['101', '102', '103', '104', '105', '106', '107', '108', '109']"
            ]
          },
          "metadata": {},
          "execution_count": 12
        }
      ],
      "source": [
        "# collect the rdd\n",
        "students_marks_keys.collect()"
      ]
    },
    {
      "cell_type": "markdown",
      "metadata": {
        "id": "LJ_niwsyWc37"
      },
      "source": [
        "---\n",
        "\n",
        "#### `Transformation - Values`\n",
        "\n",
        "The **`Values`** transformation will give you the values of the paired RDD. Let's try it for the above paired RDD.\n",
        "\n",
        "\n",
        "---"
      ]
    },
    {
      "cell_type": "code",
      "execution_count": 13,
      "metadata": {
        "id": "-IL0sVCUWc37"
      },
      "outputs": [],
      "source": [
        "# values tranformation\n",
        "students_marks_value = students_marks_paired_rdd.values()"
      ]
    },
    {
      "cell_type": "code",
      "execution_count": 14,
      "metadata": {
        "id": "XYrcJlDDWc37",
        "outputId": "35eecc4d-64d3-4376-a310-c2ea2cbc4ef0",
        "colab": {
          "base_uri": "https://localhost:8080/"
        }
      },
      "outputs": [
        {
          "output_type": "execute_result",
          "data": {
            "text/plain": [
              "[('A', 'Rohit', 'Gurgaon'),\n",
              " ('B', 'Akansha', 'Delhi'),\n",
              " ('A', 'Himanshu', 'Faridabad'),\n",
              " ('A', 'Ekta', 'Delhi'),\n",
              " ('B', 'Deepanshu', 'Gurgaon'),\n",
              " ('B', 'Ayush', 'Delhi'),\n",
              " ('B', 'Aditi', 'Delhi'),\n",
              " ('A', 'Sahil', 'Faridabad'),\n",
              " ('A', 'Krati', 'Delhi')]"
            ]
          },
          "metadata": {},
          "execution_count": 14
        }
      ],
      "source": [
        "# collect the rdd\n",
        "students_marks_value.collect()"
      ]
    },
    {
      "cell_type": "markdown",
      "metadata": {
        "id": "Ad05FxmEWc38"
      },
      "source": [
        "---\n",
        "\n",
        "#### `Find out all the datapoints of the student with roll no 102 & 105?`\n",
        "\n"
      ]
    },
    {
      "cell_type": "markdown",
      "metadata": {
        "id": "h5zPkxAvWc38"
      },
      "source": [
        "---\n",
        "\n",
        "#### `Action - Look Up`\n",
        "\n",
        "The **`Look Up`** Action is used to search for the values of a particular Key. You need to pass the Key in the Look Up function to get the corresponding values.\n",
        "\n",
        "Let's try this out !!\n",
        "\n",
        "---"
      ]
    },
    {
      "cell_type": "code",
      "execution_count": 15,
      "metadata": {
        "scrolled": true,
        "id": "SpHY39qGWc38",
        "outputId": "3bc3a2d7-e55b-449f-f322-35d5e6b2de28",
        "colab": {
          "base_uri": "https://localhost:8080/"
        }
      },
      "outputs": [
        {
          "output_type": "execute_result",
          "data": {
            "text/plain": [
              "[('B', 'Akansha', 'Delhi')]"
            ]
          },
          "metadata": {},
          "execution_count": 15
        }
      ],
      "source": [
        "# look for the values of the roll no 102\n",
        "students_marks_paired_rdd.lookup(\"102\")"
      ]
    },
    {
      "cell_type": "code",
      "execution_count": 16,
      "metadata": {
        "id": "beX5Z3guWc38",
        "outputId": "72dc778a-9f44-425b-d8de-ecbe706decc3",
        "colab": {
          "base_uri": "https://localhost:8080/"
        }
      },
      "outputs": [
        {
          "output_type": "execute_result",
          "data": {
            "text/plain": [
              "[('B', 'Deepanshu', 'Gurgaon')]"
            ]
          },
          "metadata": {},
          "execution_count": 16
        }
      ],
      "source": [
        "# look for the values of the roll no 105\n",
        "students_marks_paired_rdd.lookup(\"105\")"
      ]
    },
    {
      "cell_type": "markdown",
      "metadata": {
        "id": "wSWl8ZCsWc39"
      },
      "source": [
        "---\n",
        "\n",
        "#### `Find out the number of students from each city?`\n",
        "\n",
        "\n",
        "---\n",
        "\n",
        "First of all, we will see how to do this task without using any pair RDD.\n",
        "\n",
        "---"
      ]
    },
    {
      "cell_type": "code",
      "execution_count": 17,
      "metadata": {
        "id": "08TwVhjKWc39",
        "outputId": "6e3ff15f-ca46-4893-faa4-b53812a2da34",
        "colab": {
          "base_uri": "https://localhost:8080/"
        }
      },
      "outputs": [
        {
          "output_type": "stream",
          "name": "stdout",
          "text": [
            "[('Gurgaon', 2), ('Delhi', 5), ('Faridabad', 2)]\n"
          ]
        }
      ],
      "source": [
        "# list of distinct cities\n",
        "students_marks_distinct_cities = students_marks.map(lambda x: x[3]).distinct()\n",
        "\n",
        "# empty list\n",
        "result = []\n",
        "\n",
        "# loop over the distinct cities\n",
        "for city in students_marks_distinct_cities.collect():\n",
        "    # count no of data points for the city\n",
        "    city_count = students_marks.filter(lambda x: x[3] == city).count()\n",
        "    # append to the result list\n",
        "    result.append((city,city_count))\n",
        "\n",
        "print(result)"
      ]
    },
    {
      "cell_type": "markdown",
      "metadata": {
        "id": "H9ABcvZoWc39"
      },
      "source": [
        "---\n",
        "\n",
        "#### Let's do the same task using the pair RDD.\n"
      ]
    },
    {
      "cell_type": "markdown",
      "metadata": {
        "id": "SgDXPl35Wc39"
      },
      "source": [
        "---\n",
        "\n",
        "We will create another RDD where key will the City Name and the Values will be the Roll no & Name of the Student.\n",
        "\n",
        "----"
      ]
    },
    {
      "cell_type": "code",
      "execution_count": 18,
      "metadata": {
        "id": "JTTUby7rWc39"
      },
      "outputs": [],
      "source": [
        "# create pair rdd\n",
        "students_city_as_key = students_marks.map(lambda x: (x[3], (x[0], x[2])) )"
      ]
    },
    {
      "cell_type": "code",
      "execution_count": 19,
      "metadata": {
        "id": "ZZIYV4FlWc39",
        "outputId": "6b069091-25fe-4c99-adb1-13d7a66548c1",
        "colab": {
          "base_uri": "https://localhost:8080/"
        }
      },
      "outputs": [
        {
          "output_type": "execute_result",
          "data": {
            "text/plain": [
              "[('Gurgaon', ('101', 'Rohit')),\n",
              " ('Delhi', ('102', 'Akansha')),\n",
              " ('Faridabad', ('103', 'Himanshu')),\n",
              " ('Delhi', ('104', 'Ekta')),\n",
              " ('Gurgaon', ('105', 'Deepanshu')),\n",
              " ('Delhi', ('106', 'Ayush')),\n",
              " ('Delhi', ('107', 'Aditi')),\n",
              " ('Faridabad', ('108', 'Sahil')),\n",
              " ('Delhi', ('109', 'Krati'))]"
            ]
          },
          "metadata": {},
          "execution_count": 19
        }
      ],
      "source": [
        "# collect the rdd\n",
        "students_city_as_key.collect()"
      ]
    },
    {
      "cell_type": "markdown",
      "metadata": {
        "id": "8pSaqCfxWc3-"
      },
      "source": [
        "---\n",
        "\n",
        "#### `Action - Count By Key`\n",
        "\n",
        "The **countByKey** action will return the count of each key. Let's use it in the below cell to find out the number of students from each city.\n",
        "\n",
        "---"
      ]
    },
    {
      "cell_type": "code",
      "execution_count": 20,
      "metadata": {
        "scrolled": true,
        "id": "ZiAgpjTgWc3-",
        "outputId": "8d34a991-57b4-483f-f7ab-704f270c6078",
        "colab": {
          "base_uri": "https://localhost:8080/"
        }
      },
      "outputs": [
        {
          "output_type": "execute_result",
          "data": {
            "text/plain": [
              "defaultdict(int, {'Gurgaon': 2, 'Delhi': 5, 'Faridabad': 2})"
            ]
          },
          "metadata": {},
          "execution_count": 20
        }
      ],
      "source": [
        "# count by key action\n",
        "students_city_as_key.countByKey()"
      ]
    },
    {
      "cell_type": "markdown",
      "metadata": {
        "id": "kGbc4iDAWc3-"
      },
      "source": [
        "---\n",
        "\n",
        "\n",
        "#### `How to join 2 different pair RDDs?`\n",
        "\n"
      ]
    },
    {
      "cell_type": "markdown",
      "metadata": {
        "id": "FefWUBZCWc3_"
      },
      "source": [
        "---\n",
        "\n",
        "Now, assume these students went to write an exam and the result of that exam is stored in another file **results.txt**. It has 3 columns **Roll no**, **Grade** in the exam and **qualified** which has yes/no for whether the exam was cleared or not.\n",
        "\n",
        "---\n",
        "\n",
        "\n",
        "![](https://github.com/Dhaneshkp/Spark/blob/main/images/data_2.png?raw=1)\n",
        "\n",
        "\n",
        "\n",
        "Let's created an RDD of the file results.txt\n",
        "\n",
        "---"
      ]
    },
    {
      "cell_type": "code",
      "execution_count": 23,
      "metadata": {
        "id": "nyA1WH1OWc3_"
      },
      "outputs": [],
      "source": [
        "# create an RDD\n",
        "results = sc.textFile('results.txt')"
      ]
    },
    {
      "cell_type": "code",
      "execution_count": 24,
      "metadata": {
        "id": "LSxpLTz0Wc3_",
        "outputId": "6dcdbd23-e662-4c12-ef21-8ef19b97bb6d",
        "colab": {
          "base_uri": "https://localhost:8080/"
        }
      },
      "outputs": [
        {
          "output_type": "execute_result",
          "data": {
            "text/plain": [
              "['101 A Yes',\n",
              " '102 D No',\n",
              " '103 B Yes',\n",
              " '104 B Yes',\n",
              " '105 A Yes',\n",
              " '106 C No',\n",
              " '107 C No',\n",
              " '108 D No',\n",
              " '109 A Yes']"
            ]
          },
          "metadata": {},
          "execution_count": 24
        }
      ],
      "source": [
        "# collect the RDD\n",
        "results.collect()"
      ]
    },
    {
      "cell_type": "code",
      "execution_count": 25,
      "metadata": {
        "id": "UXzZEdoMWc3_"
      },
      "outputs": [],
      "source": [
        "# We will split each line into a list of words using Map.\n",
        "results = results.map(lambda x: x.split(' '))"
      ]
    },
    {
      "cell_type": "code",
      "execution_count": 26,
      "metadata": {
        "scrolled": true,
        "id": "ASmGb6DuWc3_",
        "outputId": "ad811668-ca0d-4b6a-f743-772f734e6f4e",
        "colab": {
          "base_uri": "https://localhost:8080/"
        }
      },
      "outputs": [
        {
          "output_type": "execute_result",
          "data": {
            "text/plain": [
              "[['101', 'A', 'Yes'],\n",
              " ['102', 'D', 'No'],\n",
              " ['103', 'B', 'Yes'],\n",
              " ['104', 'B', 'Yes'],\n",
              " ['105', 'A', 'Yes'],\n",
              " ['106', 'C', 'No'],\n",
              " ['107', 'C', 'No'],\n",
              " ['108', 'D', 'No'],\n",
              " ['109', 'A', 'Yes']]"
            ]
          },
          "metadata": {},
          "execution_count": 26
        }
      ],
      "source": [
        "# collect the RDD\n",
        "results.collect()"
      ]
    },
    {
      "cell_type": "markdown",
      "metadata": {
        "id": "UhtCM5oXWc3_"
      },
      "source": [
        "---\n",
        "\n",
        "Let's create a paired RDD where key will be the **roll no** and values will be the **grade** and **qualified** column.\n",
        "\n",
        "---"
      ]
    },
    {
      "cell_type": "code",
      "execution_count": 27,
      "metadata": {
        "id": "6-dKvXrGWc4A"
      },
      "outputs": [],
      "source": [
        "# create results pair RDD\n",
        "results_paired_rdd = results.map(lambda x: (x[0], (x[1],x[2])))"
      ]
    },
    {
      "cell_type": "code",
      "execution_count": 28,
      "metadata": {
        "scrolled": true,
        "id": "4TsPwV8yWc4A",
        "outputId": "013158c3-254f-49cf-abea-d25b3d76506a",
        "colab": {
          "base_uri": "https://localhost:8080/"
        }
      },
      "outputs": [
        {
          "output_type": "execute_result",
          "data": {
            "text/plain": [
              "[('101', ('A', 'Yes')),\n",
              " ('102', ('D', 'No')),\n",
              " ('103', ('B', 'Yes')),\n",
              " ('104', ('B', 'Yes')),\n",
              " ('105', ('A', 'Yes')),\n",
              " ('106', ('C', 'No')),\n",
              " ('107', ('C', 'No')),\n",
              " ('108', ('D', 'No')),\n",
              " ('109', ('A', 'Yes'))]"
            ]
          },
          "metadata": {},
          "execution_count": 28
        }
      ],
      "source": [
        "# collect the results pair RDD\n",
        "results_paired_rdd.collect()"
      ]
    },
    {
      "cell_type": "markdown",
      "metadata": {
        "id": "hVu_eRdYWc4A"
      },
      "source": [
        "---\n",
        "\n",
        "\n",
        "#### `Transformation - Join`\n",
        "\n",
        "Now, we will join the two RDDs using the **`Join`** transformation, the first one is **students_marks_paired_rdd** and another one is **results_paired_rdd**.\n",
        "\n",
        "---"
      ]
    },
    {
      "cell_type": "code",
      "execution_count": 29,
      "metadata": {
        "id": "2Xtb_XIHWc4A"
      },
      "outputs": [],
      "source": [
        "# join the RDD students marks and results\n",
        "joined_data = students_marks_paired_rdd.join(results_paired_rdd)"
      ]
    },
    {
      "cell_type": "code",
      "execution_count": 30,
      "metadata": {
        "id": "Jka98OKvWc4A",
        "outputId": "fbe3f2d2-2527-477c-8add-361a6f433880",
        "colab": {
          "base_uri": "https://localhost:8080/"
        }
      },
      "outputs": [
        {
          "output_type": "execute_result",
          "data": {
            "text/plain": [
              "[('102', (('B', 'Akansha', 'Delhi'), ('D', 'No'))),\n",
              " ('108', (('A', 'Sahil', 'Faridabad'), ('D', 'No'))),\n",
              " ('103', (('A', 'Himanshu', 'Faridabad'), ('B', 'Yes'))),\n",
              " ('104', (('A', 'Ekta', 'Delhi'), ('B', 'Yes'))),\n",
              " ('105', (('B', 'Deepanshu', 'Gurgaon'), ('A', 'Yes'))),\n",
              " ('106', (('B', 'Ayush', 'Delhi'), ('C', 'No'))),\n",
              " ('107', (('B', 'Aditi', 'Delhi'), ('C', 'No'))),\n",
              " ('101', (('A', 'Rohit', 'Gurgaon'), ('A', 'Yes'))),\n",
              " ('109', (('A', 'Krati', 'Delhi'), ('A', 'Yes')))]"
            ]
          },
          "metadata": {},
          "execution_count": 30
        }
      ],
      "source": [
        "# collect the RDD\n",
        "joined_data.collect()"
      ]
    },
    {
      "cell_type": "markdown",
      "metadata": {
        "id": "1Gei2-3BWc4B"
      },
      "source": [
        "---\n",
        "\n",
        "#### `Left Outer Join`\n",
        "\n",
        "We will filter the data from the **student_marks_paired_rdd** and keep the data of section A students only.\n",
        "\n",
        "---"
      ]
    },
    {
      "cell_type": "code",
      "execution_count": 31,
      "metadata": {
        "id": "9OteEwxgWc4B"
      },
      "outputs": [],
      "source": [
        "# filter out the data of section A students\n",
        "students_marks_section_a = students_marks_paired_rdd.filter(lambda x : x[1][0] == \"A\")"
      ]
    },
    {
      "cell_type": "code",
      "execution_count": 32,
      "metadata": {
        "id": "9QURJwdZWc4B",
        "outputId": "6424233e-ed2f-4963-bdd3-fd3821c254ac",
        "colab": {
          "base_uri": "https://localhost:8080/"
        }
      },
      "outputs": [
        {
          "output_type": "execute_result",
          "data": {
            "text/plain": [
              "[('101', ('A', 'Rohit', 'Gurgaon')),\n",
              " ('103', ('A', 'Himanshu', 'Faridabad')),\n",
              " ('104', ('A', 'Ekta', 'Delhi')),\n",
              " ('108', ('A', 'Sahil', 'Faridabad')),\n",
              " ('109', ('A', 'Krati', 'Delhi'))]"
            ]
          },
          "metadata": {},
          "execution_count": 32
        }
      ],
      "source": [
        "# collect the rdd of section A students\n",
        "students_marks_section_a.collect()"
      ]
    },
    {
      "cell_type": "markdown",
      "metadata": {
        "id": "FgcRBJHMWc4B"
      },
      "source": [
        "---\n",
        "\n",
        "***Now, we will do left outer join on pair rdds, `students_marks_section_a` and `results_pair_rdd`***\n",
        "\n",
        "----"
      ]
    },
    {
      "cell_type": "code",
      "execution_count": 33,
      "metadata": {
        "id": "SscBavAUWc4B"
      },
      "outputs": [],
      "source": [
        "# left outer join\n",
        "results_of_section_a = students_marks_section_a.leftOuterJoin(results_paired_rdd)"
      ]
    },
    {
      "cell_type": "code",
      "execution_count": 34,
      "metadata": {
        "id": "5x0a8YUoWc4B",
        "outputId": "dae7fa97-c72a-43c7-b1ca-28c001ecf033",
        "colab": {
          "base_uri": "https://localhost:8080/"
        }
      },
      "outputs": [
        {
          "output_type": "execute_result",
          "data": {
            "text/plain": [
              "[('108', (('A', 'Sahil', 'Faridabad'), ('D', 'No'))),\n",
              " ('103', (('A', 'Himanshu', 'Faridabad'), ('B', 'Yes'))),\n",
              " ('104', (('A', 'Ekta', 'Delhi'), ('B', 'Yes'))),\n",
              " ('101', (('A', 'Rohit', 'Gurgaon'), ('A', 'Yes'))),\n",
              " ('109', (('A', 'Krati', 'Delhi'), ('A', 'Yes')))]"
            ]
          },
          "metadata": {},
          "execution_count": 34
        }
      ],
      "source": [
        "# collect the results\n",
        "results_of_section_a.collect()"
      ]
    },
    {
      "cell_type": "markdown",
      "metadata": {
        "id": "y8l54EtFWc4B"
      },
      "source": [
        "---\n",
        "\n",
        "#### `Right Outer Join`\n",
        "\n",
        "We will filter the data from the **results_paired_rdd** and keep the data of the qualified students only.\n",
        "\n",
        "---"
      ]
    },
    {
      "cell_type": "code",
      "execution_count": 35,
      "metadata": {
        "id": "PsK-45U8Wc4B"
      },
      "outputs": [],
      "source": [
        "# filter the data of qualified students\n",
        "students_qualified = results_paired_rdd.filter(lambda x: x[1][1] == \"Yes\")"
      ]
    },
    {
      "cell_type": "code",
      "execution_count": 36,
      "metadata": {
        "id": "a-OSr7B7Wc4B",
        "outputId": "bfeba043-836f-44e4-e0cd-cd72f162fa71",
        "colab": {
          "base_uri": "https://localhost:8080/"
        }
      },
      "outputs": [
        {
          "output_type": "execute_result",
          "data": {
            "text/plain": [
              "[('101', ('A', 'Yes')),\n",
              " ('103', ('B', 'Yes')),\n",
              " ('104', ('B', 'Yes')),\n",
              " ('105', ('A', 'Yes')),\n",
              " ('109', ('A', 'Yes'))]"
            ]
          },
          "metadata": {},
          "execution_count": 36
        }
      ],
      "source": [
        "# collect the results\n",
        "students_qualified.collect()"
      ]
    },
    {
      "cell_type": "markdown",
      "metadata": {
        "id": "cLMBefbzWc4C"
      },
      "source": [
        "---\n",
        "\n",
        "***Now, we will do the right outer join on the pair rdds, `students_marks_pair_rdd`  and the `students_qualified`.***\n",
        "\n",
        "---"
      ]
    },
    {
      "cell_type": "code",
      "execution_count": 37,
      "metadata": {
        "id": "7_yyXHa_Wc4C"
      },
      "outputs": [],
      "source": [
        "# right outer join\n",
        "students_qualified_details = students_marks_paired_rdd.rightOuterJoin(students_qualified)"
      ]
    },
    {
      "cell_type": "code",
      "execution_count": 38,
      "metadata": {
        "id": "b2FiQJXPWc4C",
        "outputId": "dca80cd2-c701-4660-f573-92f5ed72afb8",
        "colab": {
          "base_uri": "https://localhost:8080/"
        }
      },
      "outputs": [
        {
          "output_type": "execute_result",
          "data": {
            "text/plain": [
              "[('103', (('A', 'Himanshu', 'Faridabad'), ('B', 'Yes'))),\n",
              " ('104', (('A', 'Ekta', 'Delhi'), ('B', 'Yes'))),\n",
              " ('105', (('B', 'Deepanshu', 'Gurgaon'), ('A', 'Yes'))),\n",
              " ('101', (('A', 'Rohit', 'Gurgaon'), ('A', 'Yes'))),\n",
              " ('109', (('A', 'Krati', 'Delhi'), ('A', 'Yes')))]"
            ]
          },
          "metadata": {},
          "execution_count": 38
        }
      ],
      "source": [
        "# collect the results\n",
        "students_qualified_details.collect()"
      ]
    },
    {
      "cell_type": "code",
      "execution_count": 38,
      "metadata": {
        "id": "Wu0Np4XKWc4C"
      },
      "outputs": [],
      "source": []
    },
    {
      "cell_type": "markdown",
      "metadata": {
        "id": "9AUlAVCRWc4C"
      },
      "source": []
    }
  ],
  "metadata": {
    "kernelspec": {
      "display_name": "Pyspark 2",
      "language": "python",
      "name": "pyspark2"
    },
    "language_info": {
      "codemirror_mode": {
        "name": "ipython",
        "version": 3
      },
      "file_extension": ".py",
      "mimetype": "text/x-python",
      "name": "python",
      "nbconvert_exporter": "python",
      "pygments_lexer": "ipython3",
      "version": "3.6.8"
    },
    "colab": {
      "provenance": [],
      "include_colab_link": true
    }
  },
  "nbformat": 4,
  "nbformat_minor": 0
}