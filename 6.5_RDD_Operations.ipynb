{
  "cells": [
    {
      "cell_type": "markdown",
      "metadata": {
        "id": "view-in-github",
        "colab_type": "text"
      },
      "source": [
        "<a href=\"https://colab.research.google.com/github/Dhaneshkp/Spark/blob/main/6.5_RDD_Operations.ipynb\" target=\"_parent\"><img src=\"https://colab.research.google.com/assets/colab-badge.svg\" alt=\"Open In Colab\"/></a>"
      ]
    },
    {
      "cell_type": "markdown",
      "metadata": {
        "id": "9hO0LW7lRbYf"
      },
      "source": [
        "---\n",
        "---\n",
        "\n",
        "<center> <h1> Transformations & Actions on RDDs </h1> </center>\n",
        "\n",
        "In the notebook, we will implement different transformations and actions using Python.\n",
        "\n",
        "\n",
        "\n",
        "### `Transformations`\n",
        "\n",
        "\n",
        "We will do the following transformations in this notebook:\n",
        "\n",
        "* 1. **Map**\n",
        "* 2. **FlatMap**\n",
        "* 3. **Filter**\n",
        "* 4. **Distinct**\n",
        "* 5. **Union**\n",
        "* 6. **Intersection**\n",
        "\n",
        "\n",
        "### `Actions`\n",
        "\n",
        "\n",
        "We will do the following Actions in this notebook:\n",
        "\n",
        "* 1. **Collect**\n",
        "* 2. **Take**\n",
        "* 3. **Count**\n",
        "\n",
        "\n",
        "\n",
        "---\n",
        "\n",
        "\n",
        "### `IMPORTING THE REQUIRED LIBRARIES`\n",
        "\n",
        "---"
      ]
    },
    {
      "cell_type": "code",
      "execution_count": 1,
      "metadata": {
        "id": "G361y7Z1RbYh"
      },
      "outputs": [],
      "source": [
        "from pyspark.context import SparkContext"
      ]
    },
    {
      "cell_type": "code",
      "execution_count": 2,
      "metadata": {
        "id": "SzFR_rP7RbYh",
        "outputId": "9b8b84fe-d12a-4b93-a46b-767403f01b91",
        "colab": {
          "base_uri": "https://localhost:8080/",
          "height": 198
        }
      },
      "outputs": [
        {
          "output_type": "execute_result",
          "data": {
            "text/plain": [
              "<SparkContext master=local[*] appName=pyspark-shell>"
            ],
            "text/html": [
              "\n",
              "        <div>\n",
              "            <p><b>SparkContext</b></p>\n",
              "\n",
              "            <p><a href=\"http://465d96a7d836:4040\">Spark UI</a></p>\n",
              "\n",
              "            <dl>\n",
              "              <dt>Version</dt>\n",
              "                <dd><code>v3.5.3</code></dd>\n",
              "              <dt>Master</dt>\n",
              "                <dd><code>local[*]</code></dd>\n",
              "              <dt>AppName</dt>\n",
              "                <dd><code>pyspark-shell</code></dd>\n",
              "            </dl>\n",
              "        </div>\n",
              "        "
            ]
          },
          "metadata": {},
          "execution_count": 2
        }
      ],
      "source": [
        "sc = SparkContext()\n",
        "sc"
      ]
    },
    {
      "cell_type": "markdown",
      "metadata": {
        "id": "8Qvgrkv5RbYi"
      },
      "source": [
        "---\n",
        "---\n",
        "#### ` Problem Statement`\n",
        "\n",
        "Suppose there is an orgranization name **`Analytics 20`**. It has 2 different branches, one in **`India`** and another one is in **`Dubai`** We have generated a random data of the employees of this organization. One file **`analytics_20_india.txt`** contains the data of employees of India and another one **`analytics_20_dubai.txt`** that contains the data of employees of Dubai.\n",
        "\n",
        "Each line of the both the files contains 3 columns. First one is `Name of the employee`, second one is `Department Name` in which he/she works and last one is `Place Name` to which the employee belongs. Data is as shown below -\n",
        "\n",
        "<center><img src=\"https://github.com/Dhaneshkp/Spark/blob/main/images/rdd_op_dataset.png?raw=1\"></center>\n",
        "\n",
        "---\n",
        "---\n",
        "\n",
        "#### `Reading the file - analytics_20_india.txt`\n",
        "\n",
        "---"
      ]
    },
    {
      "cell_type": "code",
      "execution_count": 3,
      "metadata": {
        "id": "jq1SeDJIRbYi"
      },
      "outputs": [],
      "source": [
        "# Read the file\n",
        "analytics_india = sc.textFile(\"analytics_20_india.txt\")"
      ]
    },
    {
      "cell_type": "code",
      "execution_count": 4,
      "metadata": {
        "id": "i8AZuyynRbYi",
        "outputId": "467ff9fe-ecbe-4ea4-f277-086a99a4fb34",
        "colab": {
          "base_uri": "https://localhost:8080/",
          "height": 173
        }
      },
      "outputs": [
        {
          "output_type": "execute_result",
          "data": {
            "text/plain": [
              "pyspark.rdd.RDD"
            ],
            "text/html": [
              "<div style=\"max-width:800px; border: 1px solid var(--colab-border-color);\"><style>\n",
              "      pre.function-repr-contents {\n",
              "        overflow-x: auto;\n",
              "        padding: 8px 12px;\n",
              "        max-height: 500px;\n",
              "      }\n",
              "\n",
              "      pre.function-repr-contents.function-repr-contents-collapsed {\n",
              "        cursor: pointer;\n",
              "        max-height: 100px;\n",
              "      }\n",
              "    </style>\n",
              "    <pre style=\"white-space: initial; background:\n",
              "         var(--colab-secondary-surface-color); padding: 8px 12px;\n",
              "         border-bottom: 1px solid var(--colab-border-color);\"><b>pyspark.rdd.RDD</b><br/>def __init__(jrdd: &#x27;JavaObject&#x27;, ctx: &#x27;SparkContext&#x27;, jrdd_deserializer: Serializer=AutoBatchedSerializer(CPickleSerializer()))</pre><pre class=\"function-repr-contents function-repr-contents-collapsed\" style=\"\"><a class=\"filepath\" style=\"display:none\" href=\"#\">/usr/local/lib/python3.10/dist-packages/pyspark/rdd.py</a>A Resilient Distributed Dataset (RDD), the basic abstraction in Spark.\n",
              "Represents an immutable, partitioned collection of elements that can be\n",
              "operated on in parallel.</pre>\n",
              "      <script>\n",
              "      if (google.colab.kernel.accessAllowed && google.colab.files && google.colab.files.view) {\n",
              "        for (const element of document.querySelectorAll('.filepath')) {\n",
              "          element.style.display = 'block'\n",
              "          element.onclick = (event) => {\n",
              "            event.preventDefault();\n",
              "            event.stopPropagation();\n",
              "            google.colab.files.view(element.textContent, 336);\n",
              "          };\n",
              "        }\n",
              "      }\n",
              "      for (const element of document.querySelectorAll('.function-repr-contents')) {\n",
              "        element.onclick = (event) => {\n",
              "          event.preventDefault();\n",
              "          event.stopPropagation();\n",
              "          element.classList.toggle('function-repr-contents-collapsed');\n",
              "        };\n",
              "      }\n",
              "      </script>\n",
              "      </div>"
            ]
          },
          "metadata": {},
          "execution_count": 4
        }
      ],
      "source": [
        "# Check the type of the file\n",
        "type(analytics_india)"
      ]
    },
    {
      "cell_type": "markdown",
      "metadata": {
        "id": "2On-LWsiRbYj"
      },
      "source": [
        "---\n",
        "##### Once we read the file in the spark, it has been converted into an RDD.\n",
        "\n",
        "---\n",
        "---\n",
        "\n",
        "#### `Action - collect`\n",
        "\n",
        "**collect** action will return the complete output.\n",
        "\n",
        "---"
      ]
    },
    {
      "cell_type": "code",
      "execution_count": 5,
      "metadata": {
        "scrolled": true,
        "id": "KPrWxZmfRbYj",
        "outputId": "3d44f923-7e30-4b17-ddf8-12f9b110f9d1",
        "colab": {
          "base_uri": "https://localhost:8080/"
        }
      },
      "outputs": [
        {
          "output_type": "execute_result",
          "data": {
            "text/plain": [
              "['Keaton Data_Science India',\n",
              " 'Idona Data_Science Australia',\n",
              " 'Janna HR India',\n",
              " 'Damon Data_Science India',\n",
              " 'Rahim Marketing India',\n",
              " 'Audrey Data_Science India',\n",
              " 'Irma HR Dubai',\n",
              " 'Tatum HR India',\n",
              " 'Acton Data_Science India',\n",
              " 'Ainsley Data_Science India',\n",
              " 'Phillip Data_Science India',\n",
              " 'Maite Marketing India',\n",
              " 'Kevyn Marketing Australia',\n",
              " 'Vielka HR India',\n",
              " 'Risa Operations India',\n",
              " 'Jael Accounts Dubai',\n",
              " 'Erich Data_Science India',\n",
              " 'Pearl Operations Australia',\n",
              " 'Francesca Data_Science India',\n",
              " 'Ross Sales India',\n",
              " 'Tarik HR Dubai',\n",
              " 'Lev HR India',\n",
              " 'Nerea Accounts India',\n",
              " 'Halla Sales India',\n",
              " 'Daquan Legal India',\n",
              " 'Ivan HR India',\n",
              " 'Venus HR India',\n",
              " 'Lareina Legal India',\n",
              " 'Orlando Sales Australia',\n",
              " 'Denise Accounts India',\n",
              " 'Alvin Accounts Dubai',\n",
              " 'Rafael Data_Science Australia',\n",
              " 'Whoopi Data_Science Australia',\n",
              " 'Norman Legal Dubai',\n",
              " 'Forrest Sales Dubai',\n",
              " 'Sigourney Legal India',\n",
              " 'Stone Legal Scotland',\n",
              " 'Todd Sales India',\n",
              " 'Jerome Sales India',\n",
              " 'Signe HR India',\n",
              " 'Xavier Legal India',\n",
              " 'Kevin Customer_Support India',\n",
              " 'Michelle Customer_Support India',\n",
              " 'Lyle Customer_Support Dubai',\n",
              " 'Brendan Data_Science Australia',\n",
              " 'Melvin Data_Science Australia',\n",
              " 'Ignacia Customer_Support India',\n",
              " 'Lenore HR India']"
            ]
          },
          "metadata": {},
          "execution_count": 5
        }
      ],
      "source": [
        "# collect all records\n",
        "analytics_india.collect()"
      ]
    },
    {
      "cell_type": "markdown",
      "metadata": {
        "id": "9EzthbXYRbYj"
      },
      "source": [
        "---\n",
        "---\n",
        "#### `Action - take`\n",
        "\n",
        "**take** action will return the top n (takes an integer as a parameter) results of the query. It the similar to the head funciton of pandas.\n",
        "\n",
        "\n",
        "---"
      ]
    },
    {
      "cell_type": "code",
      "execution_count": 6,
      "metadata": {
        "id": "Io8YEMMCRbYj",
        "outputId": "bbf90853-dd2e-45a5-ff67-d96df006f4b6",
        "colab": {
          "base_uri": "https://localhost:8080/"
        }
      },
      "outputs": [
        {
          "output_type": "execute_result",
          "data": {
            "text/plain": [
              "['Keaton Data_Science India',\n",
              " 'Idona Data_Science Australia',\n",
              " 'Janna HR India',\n",
              " 'Damon Data_Science India',\n",
              " 'Rahim Marketing India']"
            ]
          },
          "metadata": {},
          "execution_count": 6
        }
      ],
      "source": [
        "# take 5 records\n",
        "analytics_india.take(5)"
      ]
    },
    {
      "cell_type": "markdown",
      "metadata": {
        "id": "z42L8v2GRbYk"
      },
      "source": [
        "---\n",
        "---\n",
        "#### `Transformation - map`\n",
        "\n",
        "**map** transformation does the same operation on each of the object.\n",
        "\n",
        "We will split each line into a list of words using **map**.\n",
        "\n",
        "---"
      ]
    },
    {
      "cell_type": "code",
      "execution_count": 7,
      "metadata": {
        "id": "RLfwDBhARbYk",
        "outputId": "4401056a-2df4-4ec3-d45a-a4e81e8cf766",
        "colab": {
          "base_uri": "https://localhost:8080/"
        }
      },
      "outputs": [
        {
          "output_type": "execute_result",
          "data": {
            "text/plain": [
              "['Keaton Data_Science India',\n",
              " 'Idona Data_Science Australia',\n",
              " 'Janna HR India',\n",
              " 'Damon Data_Science India',\n",
              " 'Rahim Marketing India']"
            ]
          },
          "metadata": {},
          "execution_count": 7
        }
      ],
      "source": [
        "# Original data\n",
        "analytics_india.take(5)"
      ]
    },
    {
      "cell_type": "code",
      "execution_count": 8,
      "metadata": {
        "id": "--5QCs-TRbYk"
      },
      "outputs": [],
      "source": [
        "# map transformation - tokenize records\n",
        "analytics_india_map = analytics_india.map(lambda x: x.split(' '))"
      ]
    },
    {
      "cell_type": "code",
      "execution_count": 9,
      "metadata": {
        "scrolled": true,
        "id": "QYPqQ9jxRbYk",
        "outputId": "b9396a00-9917-4093-b880-c27326cf6342",
        "colab": {
          "base_uri": "https://localhost:8080/"
        }
      },
      "outputs": [
        {
          "output_type": "execute_result",
          "data": {
            "text/plain": [
              "[['Keaton', 'Data_Science', 'India'],\n",
              " ['Idona', 'Data_Science', 'Australia'],\n",
              " ['Janna', 'HR', 'India'],\n",
              " ['Damon', 'Data_Science', 'India'],\n",
              " ['Rahim', 'Marketing', 'India']]"
            ]
          },
          "metadata": {},
          "execution_count": 9
        }
      ],
      "source": [
        "# Check top 5 results\n",
        "analytics_india_map.take(5)"
      ]
    },
    {
      "cell_type": "markdown",
      "metadata": {
        "id": "rtDr7fvNRbYk"
      },
      "source": [
        "---\n",
        "---\n",
        "#### `Transformation - distinct`\n",
        "\n",
        "**distinct** is used to find the unique elements in the RDD.\n",
        "\n",
        "Find out the list of unique places of origin of the employees in the India branch.\n",
        "\n",
        "---"
      ]
    },
    {
      "cell_type": "code",
      "execution_count": 10,
      "metadata": {
        "id": "evcrgPV2RbYk",
        "outputId": "f8c109c5-2db1-417c-edd5-4cbfe313aa6d",
        "colab": {
          "base_uri": "https://localhost:8080/"
        }
      },
      "outputs": [
        {
          "output_type": "execute_result",
          "data": {
            "text/plain": [
              "[['Keaton', 'Data_Science', 'India'],\n",
              " ['Idona', 'Data_Science', 'Australia'],\n",
              " ['Janna', 'HR', 'India'],\n",
              " ['Damon', 'Data_Science', 'India'],\n",
              " ['Rahim', 'Marketing', 'India']]"
            ]
          },
          "metadata": {},
          "execution_count": 10
        }
      ],
      "source": [
        "# Original map data\n",
        "analytics_india_map.take(5)"
      ]
    },
    {
      "cell_type": "code",
      "execution_count": 11,
      "metadata": {
        "id": "q41ktN92RbYk"
      },
      "outputs": [],
      "source": [
        "# Create rdd with only country value\n",
        "analytics_india_places = analytics_india_map.map(lambda x: x[2])"
      ]
    },
    {
      "cell_type": "code",
      "execution_count": 12,
      "metadata": {
        "id": "YvC6wbPERbYl"
      },
      "outputs": [],
      "source": [
        "# Apply the distinct transformation\n",
        "analytics_india_distinct_places = analytics_india_places.distinct()"
      ]
    },
    {
      "cell_type": "code",
      "execution_count": 13,
      "metadata": {
        "id": "upsLi-PrRbYl",
        "outputId": "831e8818-2423-41de-c9f4-e7c1a4583f5b",
        "colab": {
          "base_uri": "https://localhost:8080/"
        }
      },
      "outputs": [
        {
          "output_type": "execute_result",
          "data": {
            "text/plain": [
              "['India', 'Australia', 'Dubai', 'Scotland']"
            ]
          },
          "metadata": {},
          "execution_count": 13
        }
      ],
      "source": [
        "# Distinct country of people working in India branch\n",
        "analytics_india_distinct_places.collect()"
      ]
    },
    {
      "cell_type": "code",
      "execution_count": 14,
      "metadata": {
        "id": "2tUz9g2oRbYl",
        "outputId": "7cd02538-cdd0-46a3-9bba-bc7909651e18",
        "colab": {
          "base_uri": "https://localhost:8080/"
        }
      },
      "outputs": [
        {
          "output_type": "execute_result",
          "data": {
            "text/plain": [
              "4"
            ]
          },
          "metadata": {},
          "execution_count": 14
        }
      ],
      "source": [
        "# Use count action to find out the total places\n",
        "analytics_india_distinct_places.count()"
      ]
    },
    {
      "cell_type": "markdown",
      "metadata": {
        "id": "PsmyRF01RbYl"
      },
      "source": [
        "---\n",
        "---\n",
        "\n",
        "#### `Transformation - filter`\n",
        "\n",
        "**filter** transformation only returns the elements which satisfies the given condition.\n",
        "\n",
        "Find out the data of the people who belong to the **India**.\n",
        "\n",
        "\n",
        "---"
      ]
    },
    {
      "cell_type": "code",
      "execution_count": 15,
      "metadata": {
        "id": "AjTx8sJbRbYl",
        "outputId": "05c8a6f7-492c-46d7-c7ae-4ef0f273178d",
        "colab": {
          "base_uri": "https://localhost:8080/"
        }
      },
      "outputs": [
        {
          "output_type": "execute_result",
          "data": {
            "text/plain": [
              "[['Keaton', 'Data_Science', 'India'],\n",
              " ['Idona', 'Data_Science', 'Australia'],\n",
              " ['Janna', 'HR', 'India'],\n",
              " ['Damon', 'Data_Science', 'India'],\n",
              " ['Rahim', 'Marketing', 'India']]"
            ]
          },
          "metadata": {},
          "execution_count": 15
        }
      ],
      "source": [
        "# Original map data\n",
        "analytics_india_map.take(5)"
      ]
    },
    {
      "cell_type": "code",
      "execution_count": 16,
      "metadata": {
        "id": "KS2HiS2gRbYm"
      },
      "outputs": [],
      "source": [
        "# filter the people who belong to the India\n",
        "analytics_india_employee_india = analytics_india_map.filter(lambda x: x[2] == \"India\")"
      ]
    },
    {
      "cell_type": "code",
      "execution_count": 17,
      "metadata": {
        "scrolled": true,
        "id": "UkglVLoWRbYm",
        "outputId": "ec97097f-2920-4043-ab49-1bc53b8e7044",
        "colab": {
          "base_uri": "https://localhost:8080/"
        }
      },
      "outputs": [
        {
          "output_type": "execute_result",
          "data": {
            "text/plain": [
              "[['Keaton', 'Data_Science', 'India'],\n",
              " ['Janna', 'HR', 'India'],\n",
              " ['Damon', 'Data_Science', 'India'],\n",
              " ['Rahim', 'Marketing', 'India'],\n",
              " ['Audrey', 'Data_Science', 'India'],\n",
              " ['Tatum', 'HR', 'India'],\n",
              " ['Acton', 'Data_Science', 'India'],\n",
              " ['Ainsley', 'Data_Science', 'India'],\n",
              " ['Phillip', 'Data_Science', 'India'],\n",
              " ['Maite', 'Marketing', 'India'],\n",
              " ['Vielka', 'HR', 'India'],\n",
              " ['Risa', 'Operations', 'India'],\n",
              " ['Erich', 'Data_Science', 'India'],\n",
              " ['Francesca', 'Data_Science', 'India'],\n",
              " ['Ross', 'Sales', 'India'],\n",
              " ['Lev', 'HR', 'India'],\n",
              " ['Nerea', 'Accounts', 'India'],\n",
              " ['Halla', 'Sales', 'India'],\n",
              " ['Daquan', 'Legal', 'India'],\n",
              " ['Ivan', 'HR', 'India'],\n",
              " ['Venus', 'HR', 'India'],\n",
              " ['Lareina', 'Legal', 'India'],\n",
              " ['Denise', 'Accounts', 'India'],\n",
              " ['Sigourney', 'Legal', 'India'],\n",
              " ['Todd', 'Sales', 'India'],\n",
              " ['Jerome', 'Sales', 'India'],\n",
              " ['Signe', 'HR', 'India'],\n",
              " ['Xavier', 'Legal', 'India'],\n",
              " ['Kevin', 'Customer_Support', 'India'],\n",
              " ['Michelle', 'Customer_Support', 'India'],\n",
              " ['Ignacia', 'Customer_Support', 'India'],\n",
              " ['Lenore', 'HR', 'India']]"
            ]
          },
          "metadata": {},
          "execution_count": 17
        }
      ],
      "source": [
        "# Collect result\n",
        "analytics_india_employee_india.collect()"
      ]
    },
    {
      "cell_type": "markdown",
      "metadata": {
        "id": "b4nNigakRbYm"
      },
      "source": [
        "---\n",
        "\n",
        "Let's find out the data of the people who belongs to **Dubai** and are in **HR** department.\n",
        "\n",
        "---"
      ]
    },
    {
      "cell_type": "code",
      "execution_count": 18,
      "metadata": {
        "id": "R8E3Tjl_RbYm"
      },
      "outputs": [],
      "source": [
        "# Apply the filter transformation\n",
        "analytics_india_filtered_data = analytics_india_map.filter(lambda x: (x[1] == \"HR\") & (x[2] == \"Dubai\"))"
      ]
    },
    {
      "cell_type": "code",
      "execution_count": 19,
      "metadata": {
        "id": "VMQsRhRpRbYm",
        "outputId": "9d841615-5d29-4e6e-8e1b-4bd7375942e3",
        "colab": {
          "base_uri": "https://localhost:8080/"
        }
      },
      "outputs": [
        {
          "output_type": "execute_result",
          "data": {
            "text/plain": [
              "[['Irma', 'HR', 'Dubai'], ['Tarik', 'HR', 'Dubai']]"
            ]
          },
          "metadata": {},
          "execution_count": 19
        }
      ],
      "source": [
        "# collect the results\n",
        "analytics_india_filtered_data.collect()"
      ]
    },
    {
      "cell_type": "markdown",
      "metadata": {
        "id": "RjEqFpOoRbYm"
      },
      "source": [
        "---\n",
        "---\n",
        "\n",
        "#### `Transformation - flatmap`\n",
        "\n",
        "* We saw **map** function does a one-to-one transformation.\n",
        "> * It transforms each element of a collection into one element of the resulting collection.\n",
        "\n",
        "<center><img src =\"images/map_transformation.png\"></center>\n",
        "\n",
        "* In the **flatmap** transformation, we will see that instead of multiple lists of each line it will return a single list of output.\n",
        "> * Spark **flatMap** function expresses a one-to-many transformation.\n",
        "\n",
        "Let's see the difference.\n",
        "\n",
        "---"
      ]
    },
    {
      "cell_type": "code",
      "execution_count": 20,
      "metadata": {
        "id": "dkJE_yFaRbYm",
        "outputId": "17692d53-7b9b-4538-f44e-b9153ed976a8",
        "colab": {
          "base_uri": "https://localhost:8080/"
        }
      },
      "outputs": [
        {
          "output_type": "execute_result",
          "data": {
            "text/plain": [
              "['Keaton Data_Science India',\n",
              " 'Idona Data_Science Australia',\n",
              " 'Janna HR India',\n",
              " 'Damon Data_Science India',\n",
              " 'Rahim Marketing India']"
            ]
          },
          "metadata": {},
          "execution_count": 20
        }
      ],
      "source": [
        "# Original data\n",
        "analytics_india.take(5)"
      ]
    },
    {
      "cell_type": "code",
      "execution_count": 21,
      "metadata": {
        "id": "TV2nRMiQRbYm"
      },
      "outputs": [],
      "source": [
        "# flatmap tranformation - tokenize records\n",
        "analytics_india_flatmap = analytics_india.flatMap(lambda x: x.split(' '))"
      ]
    },
    {
      "cell_type": "code",
      "execution_count": 22,
      "metadata": {
        "id": "q1AHluexRbYm",
        "outputId": "0daa188a-9270-484a-9a16-f8253dcb1312",
        "colab": {
          "base_uri": "https://localhost:8080/"
        }
      },
      "outputs": [
        {
          "output_type": "execute_result",
          "data": {
            "text/plain": [
              "['Keaton',\n",
              " 'Data_Science',\n",
              " 'India',\n",
              " 'Idona',\n",
              " 'Data_Science',\n",
              " 'Australia',\n",
              " 'Janna',\n",
              " 'HR',\n",
              " 'India',\n",
              " 'Damon']"
            ]
          },
          "metadata": {},
          "execution_count": 22
        }
      ],
      "source": [
        "# flatmap tokenize\n",
        "analytics_india_flatmap.take(10)"
      ]
    },
    {
      "cell_type": "code",
      "execution_count": 23,
      "metadata": {
        "id": "HyCVMLVeRbYn",
        "outputId": "2e371db2-f697-47d7-a6a2-93d4b7fccc73",
        "colab": {
          "base_uri": "https://localhost:8080/"
        }
      },
      "outputs": [
        {
          "output_type": "execute_result",
          "data": {
            "text/plain": [
              "[['Keaton', 'Data_Science', 'India'],\n",
              " ['Idona', 'Data_Science', 'Australia'],\n",
              " ['Janna', 'HR', 'India'],\n",
              " ['Damon', 'Data_Science', 'India'],\n",
              " ['Rahim', 'Marketing', 'India'],\n",
              " ['Audrey', 'Data_Science', 'India'],\n",
              " ['Irma', 'HR', 'Dubai'],\n",
              " ['Tatum', 'HR', 'India'],\n",
              " ['Acton', 'Data_Science', 'India'],\n",
              " ['Ainsley', 'Data_Science', 'India']]"
            ]
          },
          "metadata": {},
          "execution_count": 23
        }
      ],
      "source": [
        "# map tokenize\n",
        "analytics_india_map.take(10)"
      ]
    },
    {
      "cell_type": "markdown",
      "metadata": {
        "id": "uCQrGjj4RbYn"
      },
      "source": [
        "---\n",
        "---\n",
        "\n",
        "#### `Transformation - union`\n",
        "\n",
        "Use **union** transformation to find out all the places of origin from both branches - India and Dubai.\n",
        "\n",
        "---"
      ]
    },
    {
      "cell_type": "code",
      "execution_count": 26,
      "metadata": {
        "id": "LoBeD-8pRbYn"
      },
      "outputs": [],
      "source": [
        "# Create rdd for Dubai branch file\n",
        "analytics_dubai = sc.textFile(\"analytics_20_dubai.txt\")"
      ]
    },
    {
      "cell_type": "code",
      "execution_count": 27,
      "metadata": {
        "id": "51dNDEFZRbYn",
        "outputId": "6e0678fd-e13f-426b-c378-67fc6cb6bb19",
        "colab": {
          "base_uri": "https://localhost:8080/"
        }
      },
      "outputs": [
        {
          "output_type": "execute_result",
          "data": {
            "text/plain": [
              "['Leo Customer_Support Scotland',\n",
              " 'Cyrus Customer_Support India',\n",
              " 'Jolie Sales India',\n",
              " 'Susan HR Australia',\n",
              " 'Azalia Customer_Support Dubai']"
            ]
          },
          "metadata": {},
          "execution_count": 27
        }
      ],
      "source": [
        "# Dubai data\n",
        "analytics_dubai.take(5)"
      ]
    },
    {
      "cell_type": "code",
      "execution_count": 28,
      "metadata": {
        "id": "V4tQRgMyRbYn"
      },
      "outputs": [],
      "source": [
        "# map tranformation - tokenize records\n",
        "analytics_dubai_places = analytics_dubai.map(lambda x: x.split(' '))"
      ]
    },
    {
      "cell_type": "code",
      "execution_count": 29,
      "metadata": {
        "id": "pFuoNYauRbYn",
        "outputId": "3b374cbc-a919-465a-b4a1-72a0848966d7",
        "colab": {
          "base_uri": "https://localhost:8080/"
        }
      },
      "outputs": [
        {
          "output_type": "execute_result",
          "data": {
            "text/plain": [
              "[['Leo', 'Customer_Support', 'Scotland'],\n",
              " ['Cyrus', 'Customer_Support', 'India'],\n",
              " ['Jolie', 'Sales', 'India'],\n",
              " ['Susan', 'HR', 'Australia'],\n",
              " ['Azalia', 'Customer_Support', 'Dubai']]"
            ]
          },
          "metadata": {},
          "execution_count": 29
        }
      ],
      "source": [
        "# Dubai tokenized records\n",
        "analytics_dubai_places.take(5)"
      ]
    },
    {
      "cell_type": "code",
      "execution_count": 30,
      "metadata": {
        "id": "A7xm_y6MRbYn"
      },
      "outputs": [],
      "source": [
        "# Select distinct places from Dubai branch\n",
        "\n",
        "# Select country from each record\n",
        "analytics_dubai_places = analytics_dubai_places.map(lambda x: x[2])\n",
        "\n",
        "# Get distinct places\n",
        "analytics_dubai_distinct_places = analytics_dubai_places.distinct()"
      ]
    },
    {
      "cell_type": "code",
      "execution_count": 31,
      "metadata": {
        "scrolled": true,
        "id": "U8xvVwVwRbYo",
        "outputId": "1e3d42f6-40b2-4c6c-9734-709354e9d5a2",
        "colab": {
          "base_uri": "https://localhost:8080/"
        }
      },
      "outputs": [
        {
          "output_type": "execute_result",
          "data": {
            "text/plain": [
              "['Scotland', 'India', 'Australia', 'Dubai', 'South_Africa']"
            ]
          },
          "metadata": {},
          "execution_count": 31
        }
      ],
      "source": [
        "# Unique places from Dubai branch\n",
        "analytics_dubai_distinct_places.collect()"
      ]
    },
    {
      "cell_type": "code",
      "execution_count": 32,
      "metadata": {
        "id": "yn-Pyc0DRbYo",
        "outputId": "476c1c49-eaff-453d-dd7b-67d38469947b",
        "colab": {
          "base_uri": "https://localhost:8080/"
        }
      },
      "outputs": [
        {
          "output_type": "execute_result",
          "data": {
            "text/plain": [
              "['India', 'Australia', 'Dubai', 'Scotland']"
            ]
          },
          "metadata": {},
          "execution_count": 32
        }
      ],
      "source": [
        "# Unique places from India  branch\n",
        "analytics_india_distinct_places.collect()"
      ]
    },
    {
      "cell_type": "code",
      "execution_count": 33,
      "metadata": {
        "id": "EWJR15DQRbYo"
      },
      "outputs": [],
      "source": [
        "# Union places from two branches\n",
        "union_places = analytics_india_distinct_places.union(analytics_dubai_distinct_places)"
      ]
    },
    {
      "cell_type": "code",
      "execution_count": 34,
      "metadata": {
        "id": "8kEkkgu3RbYo",
        "outputId": "77d69794-fe2f-4003-9d67-4f62a7ab391f",
        "colab": {
          "base_uri": "https://localhost:8080/"
        }
      },
      "outputs": [
        {
          "output_type": "execute_result",
          "data": {
            "text/plain": [
              "['India',\n",
              " 'Australia',\n",
              " 'Dubai',\n",
              " 'Scotland',\n",
              " 'Scotland',\n",
              " 'India',\n",
              " 'Australia',\n",
              " 'Dubai',\n",
              " 'South_Africa']"
            ]
          },
          "metadata": {},
          "execution_count": 34
        }
      ],
      "source": [
        "union_places.collect()"
      ]
    },
    {
      "cell_type": "markdown",
      "metadata": {
        "id": "XzBmueLvRbYo"
      },
      "source": [
        "---\n",
        "---\n",
        "\n",
        "#### `Transformation - intersection`\n",
        "\n",
        "Use **intersection** transformation to find out the common places of origin of the employees from both branches - India and Dubai.\n",
        "\n",
        "---"
      ]
    },
    {
      "cell_type": "code",
      "execution_count": 35,
      "metadata": {
        "id": "xEgkkasZRbYo"
      },
      "outputs": [],
      "source": [
        "# Itersection of both RDDs of unique places\n",
        "common_places = analytics_india_distinct_places.intersection(analytics_dubai_distinct_places)"
      ]
    },
    {
      "cell_type": "code",
      "execution_count": 36,
      "metadata": {
        "id": "0XWTg97BRbYo",
        "outputId": "8d54d1ba-60f4-4918-a401-fc1d4626a392",
        "colab": {
          "base_uri": "https://localhost:8080/"
        }
      },
      "outputs": [
        {
          "output_type": "execute_result",
          "data": {
            "text/plain": [
              "['Dubai', 'India', 'Australia', 'Scotland']"
            ]
          },
          "metadata": {},
          "execution_count": 36
        }
      ],
      "source": [
        "# Collect the results\n",
        "common_places.collect()"
      ]
    },
    {
      "cell_type": "code",
      "execution_count": 36,
      "metadata": {
        "id": "4DUyCmz-RbYp"
      },
      "outputs": [],
      "source": []
    }
  ],
  "metadata": {
    "kernelspec": {
      "display_name": "CancerRisk",
      "language": "python",
      "name": "python3"
    },
    "language_info": {
      "codemirror_mode": {
        "name": "ipython",
        "version": 3
      },
      "file_extension": ".py",
      "mimetype": "text/x-python",
      "name": "python",
      "nbconvert_exporter": "python",
      "pygments_lexer": "ipython3",
      "version": "3.10.14"
    },
    "colab": {
      "provenance": [],
      "include_colab_link": true
    }
  },
  "nbformat": 4,
  "nbformat_minor": 0
}